{
 "cells": [
  {
   "cell_type": "markdown",
   "metadata": {},
   "source": [
    "# Multiple Linear Regression Model to Predict Housing Prices\n",
    "\n",
    "**Mauricio Ferragut**\n",
    "\n"
   ]
  },
  {
   "cell_type": "markdown",
   "metadata": {},
   "source": [
    "# Index\n",
    "\n",
    "- [Abstract](#Abstract)\n",
    "- [1. Introduction](#1.-Introduction)\n",
    "- [2. The Data](#2.-The-Data)\n",
    "    - [2.1 Import the Data](#2.1-Import-the-Data)\n",
    "    - [2.2 Data Exploration](#2.2-Data-Exploration)\n",
    "    - [2.3 Data Preparation](#2.3-Data-Preparation)\n",
    "    - [2.4 Correlation](#2.4-Correlation)\n",
    "- [3. Project Description](#3.-Project-Description)\n",
    "    - [3.1 Linear Regression](#3.1-Linear-Regression)\n",
    "    - [3.2 Analysis](#3.2-Analysis)\n",
    "    - [3.3 Results](#3.3-Results)\n",
    "    - [3.4 Verify Your Model Against Test Data](#3.4-Verify-Your-Model-Against-Test-Data)\n",
    "- [Conclusion](#Conclusion)\n",
    "- [References](#References)"
   ]
  },
  {
   "cell_type": "markdown",
   "metadata": {},
   "source": [
    "[Back to top](#Index)\n",
    "\n",
    "\n",
    "##  Abstract\n",
    "\n",
    "This multiple linear regression project aimed to predict housing sales prices using 11 independent variables, selected based on their correlation to sale price from a dataset with 82 columns. Categorical independent variables were transformed into usable data through one-hot encoding. The analysis resulted in an R^2 of 0.88 on the training data and 0.86 on the test data, indicating a strong fit and a good ability to predict housing sales prices. The 11 independent variables used in the model were found to have significant impact on the predicted outcome."
   ]
  },
  {
   "cell_type": "markdown",
   "metadata": {},
   "source": [
    "[Back to top](#Index)\n",
    "\n",
    "\n",
    "## 1. Introduction\n",
    "\n",
    "This multiple linear regression project aims to predict housing sales prices using 11 independent variables selected from a dataset with 82 columns based on their correlation to sale price. The dataset was cleaned by removing columns and rows with null values to ensure the accuracy of the analysis.\n",
    "\n",
    "The sales price data was log-normally distributed, so it was log-transformed to meet the assumptions of linear regression. Categorical independent variables were transformed into usable data through one-hot encoding, allowing them to be included in the analysis.\n",
    "\n",
    "The correlation coefficient was calculated for each independent variable in relation to the sales price, and those with the strongest correlations were selected for inclusion in the model. Eleven independent variables were ultimately chosen, and their impact on the predicted outcome was found to be significant.\n",
    "\n",
    "The model follows the equation \n",
    "\n",
    "$Y = X_1ß_1 + X_2ß_2 + X_3ß_3...$\n",
    "\n",
    "Where $Y$ is house sale price, the $X$'s are independent variables, and $ß$'s are correlation weights which we will calculate.\n"
   ]
  },
  {
   "cell_type": "markdown",
   "metadata": {},
   "source": [
    "[Back to top](#Index)\n",
    "\n",
    "## 2. The Data"
   ]
  },
  {
   "cell_type": "markdown",
   "metadata": {},
   "source": [
    "[Back to top](#Index)\n",
    "\n",
    "### 2.1 Import the Data"
   ]
  },
  {
   "cell_type": "code",
   "execution_count": 1,
   "metadata": {},
   "outputs": [
    {
     "data": {
      "text/plain": [
       "(100, 82)"
      ]
     },
     "execution_count": 1,
     "metadata": {},
     "output_type": "execute_result"
    }
   ],
   "source": [
    "#import necessary libraries\n",
    "import pandas as pd\n",
    "import numpy as np\n",
    "import matplotlib.pyplot as plt\n",
    "from sklearn import linear_model\n",
    "\n",
    "#import data\n",
    "data = pd.read_csv(\"C:/Users/mauri/Documents/Python Scripts/houseSmallData.csv\")\n",
    "data.shape #100 rows, 82 columns"
   ]
  },
  {
   "cell_type": "code",
   "execution_count": 2,
   "metadata": {},
   "outputs": [
    {
     "data": {
      "text/html": [
       "<div>\n",
       "<style scoped>\n",
       "    .dataframe tbody tr th:only-of-type {\n",
       "        vertical-align: middle;\n",
       "    }\n",
       "\n",
       "    .dataframe tbody tr th {\n",
       "        vertical-align: top;\n",
       "    }\n",
       "\n",
       "    .dataframe thead th {\n",
       "        text-align: right;\n",
       "    }\n",
       "</style>\n",
       "<table border=\"1\" class=\"dataframe\">\n",
       "  <thead>\n",
       "    <tr style=\"text-align: right;\">\n",
       "      <th></th>\n",
       "      <th>Unnamed: 0</th>\n",
       "      <th>Id</th>\n",
       "      <th>MSSubClass</th>\n",
       "      <th>MSZoning</th>\n",
       "      <th>LotFrontage</th>\n",
       "      <th>LotArea</th>\n",
       "      <th>Street</th>\n",
       "      <th>Alley</th>\n",
       "      <th>LotShape</th>\n",
       "      <th>LandContour</th>\n",
       "      <th>...</th>\n",
       "      <th>PoolArea</th>\n",
       "      <th>PoolQC</th>\n",
       "      <th>Fence</th>\n",
       "      <th>MiscFeature</th>\n",
       "      <th>MiscVal</th>\n",
       "      <th>MoSold</th>\n",
       "      <th>YrSold</th>\n",
       "      <th>SaleType</th>\n",
       "      <th>SaleCondition</th>\n",
       "      <th>SalePrice</th>\n",
       "    </tr>\n",
       "  </thead>\n",
       "  <tbody>\n",
       "    <tr>\n",
       "      <th>0</th>\n",
       "      <td>0</td>\n",
       "      <td>1</td>\n",
       "      <td>60</td>\n",
       "      <td>RL</td>\n",
       "      <td>65.0</td>\n",
       "      <td>8450</td>\n",
       "      <td>Pave</td>\n",
       "      <td>NaN</td>\n",
       "      <td>Reg</td>\n",
       "      <td>Lvl</td>\n",
       "      <td>...</td>\n",
       "      <td>0</td>\n",
       "      <td>NaN</td>\n",
       "      <td>NaN</td>\n",
       "      <td>NaN</td>\n",
       "      <td>0</td>\n",
       "      <td>2</td>\n",
       "      <td>2008</td>\n",
       "      <td>WD</td>\n",
       "      <td>Normal</td>\n",
       "      <td>208500</td>\n",
       "    </tr>\n",
       "    <tr>\n",
       "      <th>1</th>\n",
       "      <td>1</td>\n",
       "      <td>2</td>\n",
       "      <td>20</td>\n",
       "      <td>RL</td>\n",
       "      <td>80.0</td>\n",
       "      <td>9600</td>\n",
       "      <td>Pave</td>\n",
       "      <td>NaN</td>\n",
       "      <td>Reg</td>\n",
       "      <td>Lvl</td>\n",
       "      <td>...</td>\n",
       "      <td>0</td>\n",
       "      <td>NaN</td>\n",
       "      <td>NaN</td>\n",
       "      <td>NaN</td>\n",
       "      <td>0</td>\n",
       "      <td>5</td>\n",
       "      <td>2007</td>\n",
       "      <td>WD</td>\n",
       "      <td>Normal</td>\n",
       "      <td>181500</td>\n",
       "    </tr>\n",
       "    <tr>\n",
       "      <th>2</th>\n",
       "      <td>2</td>\n",
       "      <td>3</td>\n",
       "      <td>60</td>\n",
       "      <td>RL</td>\n",
       "      <td>68.0</td>\n",
       "      <td>11250</td>\n",
       "      <td>Pave</td>\n",
       "      <td>NaN</td>\n",
       "      <td>IR1</td>\n",
       "      <td>Lvl</td>\n",
       "      <td>...</td>\n",
       "      <td>0</td>\n",
       "      <td>NaN</td>\n",
       "      <td>NaN</td>\n",
       "      <td>NaN</td>\n",
       "      <td>0</td>\n",
       "      <td>9</td>\n",
       "      <td>2008</td>\n",
       "      <td>WD</td>\n",
       "      <td>Normal</td>\n",
       "      <td>223500</td>\n",
       "    </tr>\n",
       "    <tr>\n",
       "      <th>3</th>\n",
       "      <td>3</td>\n",
       "      <td>4</td>\n",
       "      <td>70</td>\n",
       "      <td>RL</td>\n",
       "      <td>60.0</td>\n",
       "      <td>9550</td>\n",
       "      <td>Pave</td>\n",
       "      <td>NaN</td>\n",
       "      <td>IR1</td>\n",
       "      <td>Lvl</td>\n",
       "      <td>...</td>\n",
       "      <td>0</td>\n",
       "      <td>NaN</td>\n",
       "      <td>NaN</td>\n",
       "      <td>NaN</td>\n",
       "      <td>0</td>\n",
       "      <td>2</td>\n",
       "      <td>2006</td>\n",
       "      <td>WD</td>\n",
       "      <td>Abnorml</td>\n",
       "      <td>140000</td>\n",
       "    </tr>\n",
       "    <tr>\n",
       "      <th>4</th>\n",
       "      <td>4</td>\n",
       "      <td>5</td>\n",
       "      <td>60</td>\n",
       "      <td>RL</td>\n",
       "      <td>84.0</td>\n",
       "      <td>14260</td>\n",
       "      <td>Pave</td>\n",
       "      <td>NaN</td>\n",
       "      <td>IR1</td>\n",
       "      <td>Lvl</td>\n",
       "      <td>...</td>\n",
       "      <td>0</td>\n",
       "      <td>NaN</td>\n",
       "      <td>NaN</td>\n",
       "      <td>NaN</td>\n",
       "      <td>0</td>\n",
       "      <td>12</td>\n",
       "      <td>2008</td>\n",
       "      <td>WD</td>\n",
       "      <td>Normal</td>\n",
       "      <td>250000</td>\n",
       "    </tr>\n",
       "  </tbody>\n",
       "</table>\n",
       "<p>5 rows × 82 columns</p>\n",
       "</div>"
      ],
      "text/plain": [
       "   Unnamed: 0  Id  MSSubClass MSZoning  LotFrontage  LotArea Street Alley  \\\n",
       "0           0   1          60       RL         65.0     8450   Pave   NaN   \n",
       "1           1   2          20       RL         80.0     9600   Pave   NaN   \n",
       "2           2   3          60       RL         68.0    11250   Pave   NaN   \n",
       "3           3   4          70       RL         60.0     9550   Pave   NaN   \n",
       "4           4   5          60       RL         84.0    14260   Pave   NaN   \n",
       "\n",
       "  LotShape LandContour  ... PoolArea PoolQC Fence MiscFeature MiscVal MoSold  \\\n",
       "0      Reg         Lvl  ...        0    NaN   NaN         NaN       0      2   \n",
       "1      Reg         Lvl  ...        0    NaN   NaN         NaN       0      5   \n",
       "2      IR1         Lvl  ...        0    NaN   NaN         NaN       0      9   \n",
       "3      IR1         Lvl  ...        0    NaN   NaN         NaN       0      2   \n",
       "4      IR1         Lvl  ...        0    NaN   NaN         NaN       0     12   \n",
       "\n",
       "  YrSold SaleType  SaleCondition  SalePrice  \n",
       "0   2008       WD         Normal     208500  \n",
       "1   2007       WD         Normal     181500  \n",
       "2   2008       WD         Normal     223500  \n",
       "3   2006       WD        Abnorml     140000  \n",
       "4   2008       WD         Normal     250000  \n",
       "\n",
       "[5 rows x 82 columns]"
      ]
     },
     "execution_count": 2,
     "metadata": {},
     "output_type": "execute_result"
    }
   ],
   "source": [
    "train = data.iloc[:,:] #copy of data for model training purposes\n",
    "train.shape #(100 rows, 82 columns)\n",
    "train.head()"
   ]
  },
  {
   "cell_type": "code",
   "execution_count": 3,
   "metadata": {},
   "outputs": [
    {
     "data": {
      "text/plain": [
       "count       100.000000\n",
       "mean     173820.660000\n",
       "std       72236.552886\n",
       "min       40000.000000\n",
       "25%      129362.500000\n",
       "50%      153750.000000\n",
       "75%      207750.000000\n",
       "max      438780.000000\n",
       "Name: SalePrice, dtype: float64"
      ]
     },
     "execution_count": 3,
     "metadata": {},
     "output_type": "execute_result"
    }
   ],
   "source": [
    "#Take a look at sale price data\n",
    "salePrice = train['SalePrice']\n",
    "salePrice.describe()"
   ]
  },
  {
   "cell_type": "markdown",
   "metadata": {},
   "source": [
    "[Back to top](#Index)\n",
    "\n",
    "### 2.2 Data Exploration\n",
    "\n",
    "Create graphs displaying the relationships between the variables that you consider most important to solve the problem of predicting housing prices.\n",
    "\n",
    "\n",
    "Include a description of the results displayed by each *plot*."
   ]
  },
  {
   "cell_type": "code",
   "execution_count": 39,
   "metadata": {},
   "outputs": [
    {
     "data": {
      "text/plain": [
       "Text(0.5, 1.0, 'Histogram of Sale Price')"
      ]
     },
     "execution_count": 39,
     "metadata": {},
     "output_type": "execute_result"
    },
    {
     "data": {
      "image/png": "[encoded data removed]",
      "text/plain": [
       "<Figure size 640x480 with 1 Axes>"
      ]
     },
     "metadata": {},
     "output_type": "display_data"
    }
   ],
   "source": [
    "#Plot histogram of sale price data\n",
    "plt.hist(salePrice)\n",
    "plt.title('Histogram of Sale Price')"
   ]
  },
  {
   "cell_type": "markdown",
   "metadata": {},
   "source": [
    "### Sale price data does not appear normally distributed <a class = 'anchor' id = \"logtransform\"></a>\n",
    "Looks like it could be log-normally distributed, so we can try transforming it. "
   ]
  },
  {
   "cell_type": "code",
   "execution_count": 40,
   "metadata": {},
   "outputs": [
    {
     "data": {
      "text/plain": [
       "Text(0.5, 1.0, 'Histogram of log(Sale Price)')"
      ]
     },
     "execution_count": 40,
     "metadata": {},
     "output_type": "execute_result"
    },
    {
     "data": {
      "image/png": "[encoded data removed]",
      "text/plain": [
       "<Figure size 640x480 with 1 Axes>"
      ]
     },
     "metadata": {},
     "output_type": "display_data"
    }
   ],
   "source": [
    "#Reshape data using log transform\n",
    "target = np.log(salePrice)\n",
    "plt.hist(target)\n",
    "plt.title('Histogram of log(Sale Price)')"
   ]
  },
  {
   "cell_type": "markdown",
   "metadata": {},
   "source": [
    "### The log-transformed sale price data looks much closer to a normal distribution\n",
    "This can be used as long as we remember that we are now predicting the logarithm of the sale price, and need to transform it back to sale price when predicting sale prices."
   ]
  },
  {
   "cell_type": "markdown",
   "metadata": {},
   "source": [
    "### An analysis of skew supports our decision to use the log-transformed data for our model"
   ]
  },
  {
   "cell_type": "code",
   "execution_count": 6,
   "metadata": {},
   "outputs": [
    {
     "data": {
      "text/plain": [
       "-0.09632240207755555"
      ]
     },
     "execution_count": 6,
     "metadata": {},
     "output_type": "execute_result"
    }
   ],
   "source": [
    "#compare skew of sale price data and log-transformed sale price data\n",
    "salePrice.skew()     #skew of 1.178, which is significant\n",
    "target.skew()        #skew of -0.096, which is reduced significantly"
   ]
  },
  {
   "cell_type": "markdown",
   "metadata": {},
   "source": [
    "### Plot log-transformed sale price against some independent variables"
   ]
  },
  {
   "cell_type": "code",
   "execution_count": 7,
   "metadata": {},
   "outputs": [
    {
     "data": {
      "image/png": "[encoded data removed]",
      "text/plain": [
       "<Figure size 500x500 with 1 Axes>"
      ]
     },
     "metadata": {},
     "output_type": "display_data"
    }
   ],
   "source": [
    "# Initialize layout\n",
    "fig, ax = plt.subplots(figsize = (5, 5))\n",
    "\n",
    "# Add scatterplot\n",
    "ax.scatter(train['OverallQual'], y=target, s=60, alpha=0.7, edgecolors=\"k\")\n",
    "plt.xlabel('Overall Quality')\n",
    "plt.ylabel('Log(Sale Price)')\n",
    "\n",
    "# Fit linear regression via least squares with numpy.polyfit\n",
    "# It returns an slope (b) and intercept (a)\n",
    "# deg=1 means linear fit (i.e. polynomial of degree 1)\n",
    "b, a = np.polyfit(train['OverallQual'], y=target, deg=1)\n",
    "\n",
    "# Create sequence of 100 numbers from 0 to 100 \n",
    "xseq = np.linspace(0, 10, num=100)\n",
    "\n",
    "# Plot regression line\n",
    "ax.plot(xseq, a + b * xseq, color=\"k\", lw=2.5);\n"
   ]
  },
  {
   "cell_type": "markdown",
   "metadata": {},
   "source": [
    "### OverallQual, a rating of the overall material and finish of the house, seems very well postively correlated with log(sale price)."
   ]
  },
  {
   "cell_type": "code",
   "execution_count": 8,
   "metadata": {},
   "outputs": [
    {
     "data": {
      "image/png": "[encoded data removed]",
      "text/plain": [
       "<Figure size 500x500 with 1 Axes>"
      ]
     },
     "metadata": {},
     "output_type": "display_data"
    }
   ],
   "source": [
    "fig, ax = plt.subplots(figsize = (5, 5))\n",
    "\n",
    "ax.scatter(train['GrLivArea'], y=target, s=60, alpha=0.7, edgecolors=\"k\")\n",
    "plt.xlabel('GrLivArea')\n",
    "plt.ylabel('Log(Sale Price)')\n",
    "\n",
    "b, a = np.polyfit(train['GrLivArea'], y=target, deg=1)\n",
    "\n",
    "xseq = np.linspace(0, 3000, num=100)\n",
    "\n",
    "ax.plot(xseq, a + b * xseq, color=\"k\", lw=2.5);"
   ]
  },
  {
   "cell_type": "markdown",
   "metadata": {},
   "source": [
    "### GrLivingArea, above ground living area in sqft, seems very well positively correlated with log(sale price)."
   ]
  },
  {
   "cell_type": "code",
   "execution_count": 9,
   "metadata": {},
   "outputs": [
    {
     "data": {
      "image/png": "[encoded data removed]",
      "text/plain": [
       "<Figure size 500x500 with 1 Axes>"
      ]
     },
     "metadata": {},
     "output_type": "display_data"
    }
   ],
   "source": [
    "fig, ax = plt.subplots(figsize = (5, 5))\n",
    "\n",
    "ax.scatter(train['GarageArea'], y=target, s=60, alpha=0.7, edgecolors=\"k\")\n",
    "plt.xlabel('GarageArea')\n",
    "plt.ylabel('Log(Sale Price)')\n",
    "\n",
    "b, a = np.polyfit(train['GarageArea'], y=target, deg=1)\n",
    "\n",
    "xseq = np.linspace(0, 900, num=100)\n",
    "\n",
    "ax.plot(xseq, a + b * xseq, color=\"k\", lw=2.5);"
   ]
  },
  {
   "cell_type": "markdown",
   "metadata": {},
   "source": [
    "### GarageArea, the size of the garage in sqft, seems fairly well positively correlated with log(sale price)."
   ]
  },
  {
   "cell_type": "code",
   "execution_count": 10,
   "metadata": {},
   "outputs": [
    {
     "data": {
      "image/png": "[encoded data removed]",
      "text/plain": [
       "<Figure size 500x500 with 1 Axes>"
      ]
     },
     "metadata": {},
     "output_type": "display_data"
    }
   ],
   "source": [
    "fig, ax = plt.subplots(figsize = (5, 5))\n",
    "\n",
    "ax.scatter(train['GarageCars'], y=target, s=60, alpha=0.7, edgecolors=\"k\")\n",
    "plt.xlabel('GarageCars')\n",
    "plt.ylabel('Log(Sale Price)')\n",
    "\n",
    "b, a = np.polyfit(train['GarageCars'], y=target, deg=1)\n",
    "\n",
    "xseq = np.linspace(0, 3, num=100)\n",
    "\n",
    "ax.plot(xseq, a + b * xseq, color=\"k\", lw=2.5);"
   ]
  },
  {
   "cell_type": "markdown",
   "metadata": {},
   "source": [
    "### GarageCars, the size of the garage in car capacity, seems fairly well positively correlated with log(sale price)."
   ]
  },
  {
   "cell_type": "code",
   "execution_count": 11,
   "metadata": {},
   "outputs": [
    {
     "data": {
      "image/png": "[encoded data removed]",
      "text/plain": [
       "<Figure size 500x500 with 1 Axes>"
      ]
     },
     "metadata": {},
     "output_type": "display_data"
    }
   ],
   "source": [
    "fig, ax = plt.subplots(figsize = (5, 5))\n",
    "\n",
    "ax.scatter(train['YearBuilt'], y=target, s=60, alpha=0.7, edgecolors=\"k\")\n",
    "plt.xlabel('YearBuilt')\n",
    "plt.ylabel('Log(Sale Price)')\n",
    "\n",
    "b, a = np.polyfit(train['YearBuilt'], y=target, deg=1)\n",
    "\n",
    "xseq = np.linspace(1910, 2010, num=100)\n",
    "\n",
    "ax.plot(xseq, a + b * xseq, color=\"k\", lw=2.5);"
   ]
  },
  {
   "cell_type": "markdown",
   "metadata": {},
   "source": [
    "### YearBuilt, the year in which the house was built, has a positive correlation with log(sale price)."
   ]
  },
  {
   "cell_type": "markdown",
   "metadata": {},
   "source": [
    "[Back to top](#Index)\n",
    "\n",
    "### 2.3 Data Preparation\n",
    "\n"
   ]
  },
  {
   "cell_type": "markdown",
   "metadata": {},
   "source": [
    "### The sale price data needed to be reshaped. See [log-transformation](#logtransform) of the data above."
   ]
  },
  {
   "cell_type": "markdown",
   "metadata": {},
   "source": [
    "### Cleaning the data:\n",
    "### First we drop all columns with excessive (more than 10) nulls"
   ]
  },
  {
   "cell_type": "code",
   "execution_count": 12,
   "metadata": {},
   "outputs": [
    {
     "data": {
      "text/plain": [
       "Unnamed: 0       0\n",
       "Id               0\n",
       "MSSubClass       0\n",
       "MSZoning         0\n",
       "LotArea          0\n",
       "                ..\n",
       "MoSold           0\n",
       "YrSold           0\n",
       "SaleType         0\n",
       "SaleCondition    0\n",
       "SalePrice        0\n",
       "Length: 76, dtype: int64"
      ]
     },
     "execution_count": 12,
     "metadata": {},
     "output_type": "execute_result"
    }
   ],
   "source": [
    "#Look at null data across dataframe\n",
    "\n",
    "nulls = train.isnull().sum()\n",
    "\n",
    "drop_cols = []\n",
    "counter = 0\n",
    "#iterate over nulls\n",
    "for i in nulls:\n",
    "    if i > 10:\n",
    "        drop_cols.append(nulls.index[counter]) #append col names where there are >10 null values to drop_cols list\n",
    "    counter += 1\n",
    "#iterate over drop_cols list\n",
    "for col in drop_cols:\n",
    "    train.drop(col, axis = 1, inplace=True) #drop columns\n",
    "\n",
    "#check that columns got dropped\n",
    "train.isnull().sum()"
   ]
  },
  {
   "cell_type": "markdown",
   "metadata": {},
   "source": [
    "### Now we query for rows without nulls to remove any remaining null data"
   ]
  },
  {
   "cell_type": "code",
   "execution_count": 13,
   "metadata": {},
   "outputs": [],
   "source": [
    "#Now we get rid of rows with NaN\n",
    "\n",
    "drop_rows = []\n",
    "counter = 0    \n",
    "for i in nulls:\n",
    "    if i > 0 and i <=10:\n",
    "        drop_rows.append(nulls.index[counter]) #append col names where there are between 1 and 10 null values to drop_rows list\n",
    "    counter += 1 \n",
    "\n",
    "#reassign train, only including rows without null values\n",
    "for row in drop_rows:\n",
    "    train = train[train[row].notna()]"
   ]
  },
  {
   "cell_type": "code",
   "execution_count": 14,
   "metadata": {},
   "outputs": [
    {
     "data": {
      "text/plain": [
       "(92, 76)"
      ]
     },
     "execution_count": 14,
     "metadata": {},
     "output_type": "execute_result"
    }
   ],
   "source": [
    "train.shape"
   ]
  },
  {
   "cell_type": "markdown",
   "metadata": {},
   "source": [
    "### Our cleaned data now has 92 rows and 76 columns"
   ]
  },
  {
   "cell_type": "markdown",
   "metadata": {},
   "source": [
    "### Make categorical data usable through one-hot encoding"
   ]
  },
  {
   "cell_type": "code",
   "execution_count": 15,
   "metadata": {},
   "outputs": [],
   "source": [
    "#create function that will automate one-hot encoding of each categorical column\n",
    "def one_hot_encode(df, column):\n",
    "    one_hot = pd.get_dummies(df[column], prefix=column)  #convert categorical variables into dummy variables\n",
    "    df = df.join(one_hot)                 #join dummy variable columns to dataframe\n",
    "    df.drop(column, axis=1, inplace=True) #drop the original categorical column\n",
    "    return df"
   ]
  },
  {
   "cell_type": "code",
   "execution_count": 16,
   "metadata": {},
   "outputs": [],
   "source": [
    "#select only categorical data\n",
    "categorical = train.select_dtypes(include=[object])\n",
    "\n",
    "#make a list of categorical column names\n",
    "categorical_cols = list(categorical.columns)\n",
    "# categorical_cols"
   ]
  },
  {
   "cell_type": "code",
   "execution_count": 17,
   "metadata": {},
   "outputs": [
    {
     "data": {
      "text/html": [
       "<div>\n",
       "<style scoped>\n",
       "    .dataframe tbody tr th:only-of-type {\n",
       "        vertical-align: middle;\n",
       "    }\n",
       "\n",
       "    .dataframe tbody tr th {\n",
       "        vertical-align: top;\n",
       "    }\n",
       "\n",
       "    .dataframe thead th {\n",
       "        text-align: right;\n",
       "    }\n",
       "</style>\n",
       "<table border=\"1\" class=\"dataframe\">\n",
       "  <thead>\n",
       "    <tr style=\"text-align: right;\">\n",
       "      <th></th>\n",
       "      <th>MSZoning_C (all)</th>\n",
       "      <th>MSZoning_FV</th>\n",
       "      <th>MSZoning_RL</th>\n",
       "      <th>MSZoning_RM</th>\n",
       "      <th>Street_Grvl</th>\n",
       "      <th>Street_Pave</th>\n",
       "      <th>LotShape_IR1</th>\n",
       "      <th>LotShape_IR2</th>\n",
       "      <th>LotShape_Reg</th>\n",
       "      <th>LandContour_Bnk</th>\n",
       "      <th>...</th>\n",
       "      <th>GarageCond_TA</th>\n",
       "      <th>PavedDrive_N</th>\n",
       "      <th>PavedDrive_P</th>\n",
       "      <th>PavedDrive_Y</th>\n",
       "      <th>SaleType_COD</th>\n",
       "      <th>SaleType_New</th>\n",
       "      <th>SaleType_WD</th>\n",
       "      <th>SaleCondition_Abnorml</th>\n",
       "      <th>SaleCondition_Normal</th>\n",
       "      <th>SaleCondition_Partial</th>\n",
       "    </tr>\n",
       "  </thead>\n",
       "  <tbody>\n",
       "    <tr>\n",
       "      <th>0</th>\n",
       "      <td>0</td>\n",
       "      <td>0</td>\n",
       "      <td>1</td>\n",
       "      <td>0</td>\n",
       "      <td>0</td>\n",
       "      <td>1</td>\n",
       "      <td>0</td>\n",
       "      <td>0</td>\n",
       "      <td>1</td>\n",
       "      <td>0</td>\n",
       "      <td>...</td>\n",
       "      <td>1</td>\n",
       "      <td>0</td>\n",
       "      <td>0</td>\n",
       "      <td>1</td>\n",
       "      <td>0</td>\n",
       "      <td>0</td>\n",
       "      <td>1</td>\n",
       "      <td>0</td>\n",
       "      <td>1</td>\n",
       "      <td>0</td>\n",
       "    </tr>\n",
       "    <tr>\n",
       "      <th>1</th>\n",
       "      <td>0</td>\n",
       "      <td>0</td>\n",
       "      <td>1</td>\n",
       "      <td>0</td>\n",
       "      <td>0</td>\n",
       "      <td>1</td>\n",
       "      <td>0</td>\n",
       "      <td>0</td>\n",
       "      <td>1</td>\n",
       "      <td>0</td>\n",
       "      <td>...</td>\n",
       "      <td>1</td>\n",
       "      <td>0</td>\n",
       "      <td>0</td>\n",
       "      <td>1</td>\n",
       "      <td>0</td>\n",
       "      <td>0</td>\n",
       "      <td>1</td>\n",
       "      <td>0</td>\n",
       "      <td>1</td>\n",
       "      <td>0</td>\n",
       "    </tr>\n",
       "    <tr>\n",
       "      <th>2</th>\n",
       "      <td>0</td>\n",
       "      <td>0</td>\n",
       "      <td>1</td>\n",
       "      <td>0</td>\n",
       "      <td>0</td>\n",
       "      <td>1</td>\n",
       "      <td>1</td>\n",
       "      <td>0</td>\n",
       "      <td>0</td>\n",
       "      <td>0</td>\n",
       "      <td>...</td>\n",
       "      <td>1</td>\n",
       "      <td>0</td>\n",
       "      <td>0</td>\n",
       "      <td>1</td>\n",
       "      <td>0</td>\n",
       "      <td>0</td>\n",
       "      <td>1</td>\n",
       "      <td>0</td>\n",
       "      <td>1</td>\n",
       "      <td>0</td>\n",
       "    </tr>\n",
       "    <tr>\n",
       "      <th>3</th>\n",
       "      <td>0</td>\n",
       "      <td>0</td>\n",
       "      <td>1</td>\n",
       "      <td>0</td>\n",
       "      <td>0</td>\n",
       "      <td>1</td>\n",
       "      <td>1</td>\n",
       "      <td>0</td>\n",
       "      <td>0</td>\n",
       "      <td>0</td>\n",
       "      <td>...</td>\n",
       "      <td>1</td>\n",
       "      <td>0</td>\n",
       "      <td>0</td>\n",
       "      <td>1</td>\n",
       "      <td>0</td>\n",
       "      <td>0</td>\n",
       "      <td>1</td>\n",
       "      <td>1</td>\n",
       "      <td>0</td>\n",
       "      <td>0</td>\n",
       "    </tr>\n",
       "    <tr>\n",
       "      <th>4</th>\n",
       "      <td>0</td>\n",
       "      <td>0</td>\n",
       "      <td>1</td>\n",
       "      <td>0</td>\n",
       "      <td>0</td>\n",
       "      <td>1</td>\n",
       "      <td>1</td>\n",
       "      <td>0</td>\n",
       "      <td>0</td>\n",
       "      <td>0</td>\n",
       "      <td>...</td>\n",
       "      <td>1</td>\n",
       "      <td>0</td>\n",
       "      <td>0</td>\n",
       "      <td>1</td>\n",
       "      <td>0</td>\n",
       "      <td>0</td>\n",
       "      <td>1</td>\n",
       "      <td>0</td>\n",
       "      <td>1</td>\n",
       "      <td>0</td>\n",
       "    </tr>\n",
       "    <tr>\n",
       "      <th>...</th>\n",
       "      <td>...</td>\n",
       "      <td>...</td>\n",
       "      <td>...</td>\n",
       "      <td>...</td>\n",
       "      <td>...</td>\n",
       "      <td>...</td>\n",
       "      <td>...</td>\n",
       "      <td>...</td>\n",
       "      <td>...</td>\n",
       "      <td>...</td>\n",
       "      <td>...</td>\n",
       "      <td>...</td>\n",
       "      <td>...</td>\n",
       "      <td>...</td>\n",
       "      <td>...</td>\n",
       "      <td>...</td>\n",
       "      <td>...</td>\n",
       "      <td>...</td>\n",
       "      <td>...</td>\n",
       "      <td>...</td>\n",
       "      <td>...</td>\n",
       "    </tr>\n",
       "    <tr>\n",
       "      <th>94</th>\n",
       "      <td>0</td>\n",
       "      <td>0</td>\n",
       "      <td>1</td>\n",
       "      <td>0</td>\n",
       "      <td>0</td>\n",
       "      <td>1</td>\n",
       "      <td>1</td>\n",
       "      <td>0</td>\n",
       "      <td>0</td>\n",
       "      <td>0</td>\n",
       "      <td>...</td>\n",
       "      <td>1</td>\n",
       "      <td>0</td>\n",
       "      <td>0</td>\n",
       "      <td>1</td>\n",
       "      <td>0</td>\n",
       "      <td>0</td>\n",
       "      <td>1</td>\n",
       "      <td>0</td>\n",
       "      <td>1</td>\n",
       "      <td>0</td>\n",
       "    </tr>\n",
       "    <tr>\n",
       "      <th>95</th>\n",
       "      <td>0</td>\n",
       "      <td>0</td>\n",
       "      <td>1</td>\n",
       "      <td>0</td>\n",
       "      <td>0</td>\n",
       "      <td>1</td>\n",
       "      <td>0</td>\n",
       "      <td>1</td>\n",
       "      <td>0</td>\n",
       "      <td>0</td>\n",
       "      <td>...</td>\n",
       "      <td>1</td>\n",
       "      <td>0</td>\n",
       "      <td>0</td>\n",
       "      <td>1</td>\n",
       "      <td>0</td>\n",
       "      <td>0</td>\n",
       "      <td>1</td>\n",
       "      <td>0</td>\n",
       "      <td>1</td>\n",
       "      <td>0</td>\n",
       "    </tr>\n",
       "    <tr>\n",
       "      <th>96</th>\n",
       "      <td>0</td>\n",
       "      <td>0</td>\n",
       "      <td>1</td>\n",
       "      <td>0</td>\n",
       "      <td>0</td>\n",
       "      <td>1</td>\n",
       "      <td>1</td>\n",
       "      <td>0</td>\n",
       "      <td>0</td>\n",
       "      <td>0</td>\n",
       "      <td>...</td>\n",
       "      <td>1</td>\n",
       "      <td>0</td>\n",
       "      <td>0</td>\n",
       "      <td>1</td>\n",
       "      <td>0</td>\n",
       "      <td>0</td>\n",
       "      <td>1</td>\n",
       "      <td>0</td>\n",
       "      <td>1</td>\n",
       "      <td>0</td>\n",
       "    </tr>\n",
       "    <tr>\n",
       "      <th>97</th>\n",
       "      <td>0</td>\n",
       "      <td>0</td>\n",
       "      <td>1</td>\n",
       "      <td>0</td>\n",
       "      <td>0</td>\n",
       "      <td>1</td>\n",
       "      <td>0</td>\n",
       "      <td>0</td>\n",
       "      <td>1</td>\n",
       "      <td>0</td>\n",
       "      <td>...</td>\n",
       "      <td>1</td>\n",
       "      <td>0</td>\n",
       "      <td>1</td>\n",
       "      <td>0</td>\n",
       "      <td>0</td>\n",
       "      <td>0</td>\n",
       "      <td>1</td>\n",
       "      <td>0</td>\n",
       "      <td>1</td>\n",
       "      <td>0</td>\n",
       "    </tr>\n",
       "    <tr>\n",
       "      <th>98</th>\n",
       "      <td>0</td>\n",
       "      <td>0</td>\n",
       "      <td>1</td>\n",
       "      <td>0</td>\n",
       "      <td>0</td>\n",
       "      <td>1</td>\n",
       "      <td>0</td>\n",
       "      <td>0</td>\n",
       "      <td>1</td>\n",
       "      <td>0</td>\n",
       "      <td>...</td>\n",
       "      <td>1</td>\n",
       "      <td>0</td>\n",
       "      <td>0</td>\n",
       "      <td>1</td>\n",
       "      <td>1</td>\n",
       "      <td>0</td>\n",
       "      <td>0</td>\n",
       "      <td>1</td>\n",
       "      <td>0</td>\n",
       "      <td>0</td>\n",
       "    </tr>\n",
       "  </tbody>\n",
       "</table>\n",
       "<p>92 rows × 166 columns</p>\n",
       "</div>"
      ],
      "text/plain": [
       "    MSZoning_C (all)  MSZoning_FV  MSZoning_RL  MSZoning_RM  Street_Grvl  \\\n",
       "0                  0            0            1            0            0   \n",
       "1                  0            0            1            0            0   \n",
       "2                  0            0            1            0            0   \n",
       "3                  0            0            1            0            0   \n",
       "4                  0            0            1            0            0   \n",
       "..               ...          ...          ...          ...          ...   \n",
       "94                 0            0            1            0            0   \n",
       "95                 0            0            1            0            0   \n",
       "96                 0            0            1            0            0   \n",
       "97                 0            0            1            0            0   \n",
       "98                 0            0            1            0            0   \n",
       "\n",
       "    Street_Pave  LotShape_IR1  LotShape_IR2  LotShape_Reg  LandContour_Bnk  \\\n",
       "0             1             0             0             1                0   \n",
       "1             1             0             0             1                0   \n",
       "2             1             1             0             0                0   \n",
       "3             1             1             0             0                0   \n",
       "4             1             1             0             0                0   \n",
       "..          ...           ...           ...           ...              ...   \n",
       "94            1             1             0             0                0   \n",
       "95            1             0             1             0                0   \n",
       "96            1             1             0             0                0   \n",
       "97            1             0             0             1                0   \n",
       "98            1             0             0             1                0   \n",
       "\n",
       "    ...  GarageCond_TA  PavedDrive_N  PavedDrive_P  PavedDrive_Y  \\\n",
       "0   ...              1             0             0             1   \n",
       "1   ...              1             0             0             1   \n",
       "2   ...              1             0             0             1   \n",
       "3   ...              1             0             0             1   \n",
       "4   ...              1             0             0             1   \n",
       "..  ...            ...           ...           ...           ...   \n",
       "94  ...              1             0             0             1   \n",
       "95  ...              1             0             0             1   \n",
       "96  ...              1             0             0             1   \n",
       "97  ...              1             0             1             0   \n",
       "98  ...              1             0             0             1   \n",
       "\n",
       "    SaleType_COD  SaleType_New  SaleType_WD  SaleCondition_Abnorml  \\\n",
       "0              0             0            1                      0   \n",
       "1              0             0            1                      0   \n",
       "2              0             0            1                      0   \n",
       "3              0             0            1                      1   \n",
       "4              0             0            1                      0   \n",
       "..           ...           ...          ...                    ...   \n",
       "94             0             0            1                      0   \n",
       "95             0             0            1                      0   \n",
       "96             0             0            1                      0   \n",
       "97             0             0            1                      0   \n",
       "98             1             0            0                      1   \n",
       "\n",
       "    SaleCondition_Normal  SaleCondition_Partial  \n",
       "0                      1                      0  \n",
       "1                      1                      0  \n",
       "2                      1                      0  \n",
       "3                      0                      0  \n",
       "4                      1                      0  \n",
       "..                   ...                    ...  \n",
       "94                     1                      0  \n",
       "95                     1                      0  \n",
       "96                     1                      0  \n",
       "97                     1                      0  \n",
       "98                     0                      0  \n",
       "\n",
       "[92 rows x 166 columns]"
      ]
     },
     "execution_count": 17,
     "metadata": {},
     "output_type": "execute_result"
    }
   ],
   "source": [
    "#iterate over list of categorical columns, feed into one-hot encoding function\n",
    "for col in categorical_cols:\n",
    "    categorical = one_hot_encode(categorical, col)\n",
    "      \n",
    "categorical\n",
    "#one-hot encoding has now turned categorical columns into usable numerical columns"
   ]
  },
  {
   "cell_type": "markdown",
   "metadata": {},
   "source": [
    "### Now we have our usable categorical data, let's get our numerical data"
   ]
  },
  {
   "cell_type": "code",
   "execution_count": 18,
   "metadata": {},
   "outputs": [
    {
     "data": {
      "text/html": [
       "<div>\n",
       "<style scoped>\n",
       "    .dataframe tbody tr th:only-of-type {\n",
       "        vertical-align: middle;\n",
       "    }\n",
       "\n",
       "    .dataframe tbody tr th {\n",
       "        vertical-align: top;\n",
       "    }\n",
       "\n",
       "    .dataframe thead th {\n",
       "        text-align: right;\n",
       "    }\n",
       "</style>\n",
       "<table border=\"1\" class=\"dataframe\">\n",
       "  <thead>\n",
       "    <tr style=\"text-align: right;\">\n",
       "      <th></th>\n",
       "      <th>Unnamed: 0</th>\n",
       "      <th>Id</th>\n",
       "      <th>MSSubClass</th>\n",
       "      <th>LotArea</th>\n",
       "      <th>OverallQual</th>\n",
       "      <th>OverallCond</th>\n",
       "      <th>YearBuilt</th>\n",
       "      <th>YearRemodAdd</th>\n",
       "      <th>MasVnrArea</th>\n",
       "      <th>BsmtFinSF1</th>\n",
       "      <th>...</th>\n",
       "      <th>WoodDeckSF</th>\n",
       "      <th>OpenPorchSF</th>\n",
       "      <th>EnclosedPorch</th>\n",
       "      <th>3SsnPorch</th>\n",
       "      <th>ScreenPorch</th>\n",
       "      <th>PoolArea</th>\n",
       "      <th>MiscVal</th>\n",
       "      <th>MoSold</th>\n",
       "      <th>YrSold</th>\n",
       "      <th>SalePrice</th>\n",
       "    </tr>\n",
       "  </thead>\n",
       "  <tbody>\n",
       "    <tr>\n",
       "      <th>0</th>\n",
       "      <td>0</td>\n",
       "      <td>1</td>\n",
       "      <td>60</td>\n",
       "      <td>8450</td>\n",
       "      <td>7</td>\n",
       "      <td>5</td>\n",
       "      <td>2003</td>\n",
       "      <td>2003</td>\n",
       "      <td>196.0</td>\n",
       "      <td>706</td>\n",
       "      <td>...</td>\n",
       "      <td>0</td>\n",
       "      <td>61</td>\n",
       "      <td>0</td>\n",
       "      <td>0</td>\n",
       "      <td>0</td>\n",
       "      <td>0</td>\n",
       "      <td>0</td>\n",
       "      <td>2</td>\n",
       "      <td>2008</td>\n",
       "      <td>208500</td>\n",
       "    </tr>\n",
       "    <tr>\n",
       "      <th>1</th>\n",
       "      <td>1</td>\n",
       "      <td>2</td>\n",
       "      <td>20</td>\n",
       "      <td>9600</td>\n",
       "      <td>6</td>\n",
       "      <td>8</td>\n",
       "      <td>1976</td>\n",
       "      <td>1976</td>\n",
       "      <td>0.0</td>\n",
       "      <td>978</td>\n",
       "      <td>...</td>\n",
       "      <td>298</td>\n",
       "      <td>0</td>\n",
       "      <td>0</td>\n",
       "      <td>0</td>\n",
       "      <td>0</td>\n",
       "      <td>0</td>\n",
       "      <td>0</td>\n",
       "      <td>5</td>\n",
       "      <td>2007</td>\n",
       "      <td>181500</td>\n",
       "    </tr>\n",
       "    <tr>\n",
       "      <th>2</th>\n",
       "      <td>2</td>\n",
       "      <td>3</td>\n",
       "      <td>60</td>\n",
       "      <td>11250</td>\n",
       "      <td>7</td>\n",
       "      <td>5</td>\n",
       "      <td>2001</td>\n",
       "      <td>2002</td>\n",
       "      <td>162.0</td>\n",
       "      <td>486</td>\n",
       "      <td>...</td>\n",
       "      <td>0</td>\n",
       "      <td>42</td>\n",
       "      <td>0</td>\n",
       "      <td>0</td>\n",
       "      <td>0</td>\n",
       "      <td>0</td>\n",
       "      <td>0</td>\n",
       "      <td>9</td>\n",
       "      <td>2008</td>\n",
       "      <td>223500</td>\n",
       "    </tr>\n",
       "    <tr>\n",
       "      <th>3</th>\n",
       "      <td>3</td>\n",
       "      <td>4</td>\n",
       "      <td>70</td>\n",
       "      <td>9550</td>\n",
       "      <td>7</td>\n",
       "      <td>5</td>\n",
       "      <td>1915</td>\n",
       "      <td>1970</td>\n",
       "      <td>0.0</td>\n",
       "      <td>216</td>\n",
       "      <td>...</td>\n",
       "      <td>0</td>\n",
       "      <td>35</td>\n",
       "      <td>272</td>\n",
       "      <td>0</td>\n",
       "      <td>0</td>\n",
       "      <td>0</td>\n",
       "      <td>0</td>\n",
       "      <td>2</td>\n",
       "      <td>2006</td>\n",
       "      <td>140000</td>\n",
       "    </tr>\n",
       "    <tr>\n",
       "      <th>4</th>\n",
       "      <td>4</td>\n",
       "      <td>5</td>\n",
       "      <td>60</td>\n",
       "      <td>14260</td>\n",
       "      <td>8</td>\n",
       "      <td>5</td>\n",
       "      <td>2000</td>\n",
       "      <td>2000</td>\n",
       "      <td>350.0</td>\n",
       "      <td>655</td>\n",
       "      <td>...</td>\n",
       "      <td>192</td>\n",
       "      <td>84</td>\n",
       "      <td>0</td>\n",
       "      <td>0</td>\n",
       "      <td>0</td>\n",
       "      <td>0</td>\n",
       "      <td>0</td>\n",
       "      <td>12</td>\n",
       "      <td>2008</td>\n",
       "      <td>250000</td>\n",
       "    </tr>\n",
       "  </tbody>\n",
       "</table>\n",
       "<p>5 rows × 38 columns</p>\n",
       "</div>"
      ],
      "text/plain": [
       "   Unnamed: 0  Id  MSSubClass  LotArea  OverallQual  OverallCond  YearBuilt  \\\n",
       "0           0   1          60     8450            7            5       2003   \n",
       "1           1   2          20     9600            6            8       1976   \n",
       "2           2   3          60    11250            7            5       2001   \n",
       "3           3   4          70     9550            7            5       1915   \n",
       "4           4   5          60    14260            8            5       2000   \n",
       "\n",
       "   YearRemodAdd  MasVnrArea  BsmtFinSF1  ...  WoodDeckSF  OpenPorchSF  \\\n",
       "0          2003       196.0         706  ...           0           61   \n",
       "1          1976         0.0         978  ...         298            0   \n",
       "2          2002       162.0         486  ...           0           42   \n",
       "3          1970         0.0         216  ...           0           35   \n",
       "4          2000       350.0         655  ...         192           84   \n",
       "\n",
       "   EnclosedPorch  3SsnPorch  ScreenPorch  PoolArea  MiscVal  MoSold  YrSold  \\\n",
       "0              0          0            0         0        0       2    2008   \n",
       "1              0          0            0         0        0       5    2007   \n",
       "2              0          0            0         0        0       9    2008   \n",
       "3            272          0            0         0        0       2    2006   \n",
       "4              0          0            0         0        0      12    2008   \n",
       "\n",
       "   SalePrice  \n",
       "0     208500  \n",
       "1     181500  \n",
       "2     223500  \n",
       "3     140000  \n",
       "4     250000  \n",
       "\n",
       "[5 rows x 38 columns]"
      ]
     },
     "execution_count": 18,
     "metadata": {},
     "output_type": "execute_result"
    }
   ],
   "source": [
    "#Get numerical data\n",
    "numeric = train.select_dtypes(include=[np.number]) #select only numerical datatypes\n",
    "numeric.head()"
   ]
  },
  {
   "cell_type": "markdown",
   "metadata": {},
   "source": [
    "### Now we join our numerical and categorical data into one dataframe"
   ]
  },
  {
   "cell_type": "code",
   "execution_count": 19,
   "metadata": {},
   "outputs": [
    {
     "data": {
      "text/plain": [
       "(92, 204)"
      ]
     },
     "execution_count": 19,
     "metadata": {},
     "output_type": "execute_result"
    }
   ],
   "source": [
    "data_clean = numeric.join(categorical)\n",
    "data_clean.shape #92 rows, 204 columns"
   ]
  },
  {
   "cell_type": "markdown",
   "metadata": {},
   "source": [
    "[Back to top](#Index)\n",
    "\n",
    "### 2.4 Correlation\n",
    "\n",
    "Describe the correlation between the variables in your data. How can the correlation help you make an educated guess about how to proceed with your analysis? Will you explore different variables based on the correlation you found? If so, describe what you did and be sure to include what you found with the new set of variables."
   ]
  },
  {
   "cell_type": "code",
   "execution_count": 20,
   "metadata": {},
   "outputs": [
    {
     "data": {
      "text/html": [
       "<div>\n",
       "<style scoped>\n",
       "    .dataframe tbody tr th:only-of-type {\n",
       "        vertical-align: middle;\n",
       "    }\n",
       "\n",
       "    .dataframe tbody tr th {\n",
       "        vertical-align: top;\n",
       "    }\n",
       "\n",
       "    .dataframe thead th {\n",
       "        text-align: right;\n",
       "    }\n",
       "</style>\n",
       "<table border=\"1\" class=\"dataframe\">\n",
       "  <thead>\n",
       "    <tr style=\"text-align: right;\">\n",
       "      <th></th>\n",
       "      <th>Unnamed: 0</th>\n",
       "      <th>Id</th>\n",
       "      <th>MSSubClass</th>\n",
       "      <th>LotArea</th>\n",
       "      <th>OverallQual</th>\n",
       "      <th>OverallCond</th>\n",
       "      <th>YearBuilt</th>\n",
       "      <th>YearRemodAdd</th>\n",
       "      <th>MasVnrArea</th>\n",
       "      <th>BsmtFinSF1</th>\n",
       "      <th>...</th>\n",
       "      <th>GarageCond_TA</th>\n",
       "      <th>PavedDrive_N</th>\n",
       "      <th>PavedDrive_P</th>\n",
       "      <th>PavedDrive_Y</th>\n",
       "      <th>SaleType_COD</th>\n",
       "      <th>SaleType_New</th>\n",
       "      <th>SaleType_WD</th>\n",
       "      <th>SaleCondition_Abnorml</th>\n",
       "      <th>SaleCondition_Normal</th>\n",
       "      <th>SaleCondition_Partial</th>\n",
       "    </tr>\n",
       "  </thead>\n",
       "  <tbody>\n",
       "    <tr>\n",
       "      <th>Unnamed: 0</th>\n",
       "      <td>1.000000</td>\n",
       "      <td>1.000000</td>\n",
       "      <td>0.137568</td>\n",
       "      <td>-0.032999</td>\n",
       "      <td>-0.158653</td>\n",
       "      <td>-0.106961</td>\n",
       "      <td>-0.064661</td>\n",
       "      <td>0.010131</td>\n",
       "      <td>0.043640</td>\n",
       "      <td>-0.116994</td>\n",
       "      <td>...</td>\n",
       "      <td>0.062291</td>\n",
       "      <td>-0.068085</td>\n",
       "      <td>0.111210</td>\n",
       "      <td>-0.018197</td>\n",
       "      <td>0.121858</td>\n",
       "      <td>-0.059135</td>\n",
       "      <td>-0.023705</td>\n",
       "      <td>-0.040817</td>\n",
       "      <td>0.072351</td>\n",
       "      <td>-0.059135</td>\n",
       "    </tr>\n",
       "    <tr>\n",
       "      <th>Id</th>\n",
       "      <td>1.000000</td>\n",
       "      <td>1.000000</td>\n",
       "      <td>0.137568</td>\n",
       "      <td>-0.032999</td>\n",
       "      <td>-0.158653</td>\n",
       "      <td>-0.106961</td>\n",
       "      <td>-0.064661</td>\n",
       "      <td>0.010131</td>\n",
       "      <td>0.043640</td>\n",
       "      <td>-0.116994</td>\n",
       "      <td>...</td>\n",
       "      <td>0.062291</td>\n",
       "      <td>-0.068085</td>\n",
       "      <td>0.111210</td>\n",
       "      <td>-0.018197</td>\n",
       "      <td>0.121858</td>\n",
       "      <td>-0.059135</td>\n",
       "      <td>-0.023705</td>\n",
       "      <td>-0.040817</td>\n",
       "      <td>0.072351</td>\n",
       "      <td>-0.059135</td>\n",
       "    </tr>\n",
       "    <tr>\n",
       "      <th>MSSubClass</th>\n",
       "      <td>0.137568</td>\n",
       "      <td>0.137568</td>\n",
       "      <td>1.000000</td>\n",
       "      <td>-0.330912</td>\n",
       "      <td>0.122743</td>\n",
       "      <td>-0.103423</td>\n",
       "      <td>0.013859</td>\n",
       "      <td>0.065691</td>\n",
       "      <td>0.026036</td>\n",
       "      <td>-0.033935</td>\n",
       "      <td>...</td>\n",
       "      <td>-0.099499</td>\n",
       "      <td>0.058658</td>\n",
       "      <td>-0.111041</td>\n",
       "      <td>0.025474</td>\n",
       "      <td>-0.121727</td>\n",
       "      <td>0.084389</td>\n",
       "      <td>0.002637</td>\n",
       "      <td>-0.011624</td>\n",
       "      <td>-0.047057</td>\n",
       "      <td>0.084389</td>\n",
       "    </tr>\n",
       "    <tr>\n",
       "      <th>LotArea</th>\n",
       "      <td>-0.032999</td>\n",
       "      <td>-0.032999</td>\n",
       "      <td>-0.330912</td>\n",
       "      <td>1.000000</td>\n",
       "      <td>0.328167</td>\n",
       "      <td>-0.171639</td>\n",
       "      <td>0.164696</td>\n",
       "      <td>0.120368</td>\n",
       "      <td>0.077315</td>\n",
       "      <td>0.347003</td>\n",
       "      <td>...</td>\n",
       "      <td>0.041089</td>\n",
       "      <td>-0.089887</td>\n",
       "      <td>0.102902</td>\n",
       "      <td>0.004228</td>\n",
       "      <td>-0.044116</td>\n",
       "      <td>0.048367</td>\n",
       "      <td>-0.013824</td>\n",
       "      <td>-0.126699</td>\n",
       "      <td>0.069564</td>\n",
       "      <td>0.048367</td>\n",
       "    </tr>\n",
       "    <tr>\n",
       "      <th>OverallQual</th>\n",
       "      <td>-0.158653</td>\n",
       "      <td>-0.158653</td>\n",
       "      <td>0.122743</td>\n",
       "      <td>0.328167</td>\n",
       "      <td>1.000000</td>\n",
       "      <td>-0.334532</td>\n",
       "      <td>0.571356</td>\n",
       "      <td>0.498736</td>\n",
       "      <td>0.514169</td>\n",
       "      <td>0.070283</td>\n",
       "      <td>...</td>\n",
       "      <td>0.171362</td>\n",
       "      <td>-0.105295</td>\n",
       "      <td>-0.171362</td>\n",
       "      <td>0.192725</td>\n",
       "      <td>-0.147597</td>\n",
       "      <td>0.274525</td>\n",
       "      <td>-0.139922</td>\n",
       "      <td>-0.011821</td>\n",
       "      <td>-0.173986</td>\n",
       "      <td>0.274525</td>\n",
       "    </tr>\n",
       "    <tr>\n",
       "      <th>...</th>\n",
       "      <td>...</td>\n",
       "      <td>...</td>\n",
       "      <td>...</td>\n",
       "      <td>...</td>\n",
       "      <td>...</td>\n",
       "      <td>...</td>\n",
       "      <td>...</td>\n",
       "      <td>...</td>\n",
       "      <td>...</td>\n",
       "      <td>...</td>\n",
       "      <td>...</td>\n",
       "      <td>...</td>\n",
       "      <td>...</td>\n",
       "      <td>...</td>\n",
       "      <td>...</td>\n",
       "      <td>...</td>\n",
       "      <td>...</td>\n",
       "      <td>...</td>\n",
       "      <td>...</td>\n",
       "      <td>...</td>\n",
       "      <td>...</td>\n",
       "    </tr>\n",
       "    <tr>\n",
       "      <th>SaleType_New</th>\n",
       "      <td>-0.059135</td>\n",
       "      <td>-0.059135</td>\n",
       "      <td>0.084389</td>\n",
       "      <td>0.048367</td>\n",
       "      <td>0.274525</td>\n",
       "      <td>-0.162704</td>\n",
       "      <td>0.298245</td>\n",
       "      <td>0.273308</td>\n",
       "      <td>0.259215</td>\n",
       "      <td>-0.090163</td>\n",
       "      <td>...</td>\n",
       "      <td>0.039375</td>\n",
       "      <td>-0.048494</td>\n",
       "      <td>-0.039375</td>\n",
       "      <td>0.063322</td>\n",
       "      <td>-0.048494</td>\n",
       "      <td>1.000000</td>\n",
       "      <td>-0.802129</td>\n",
       "      <td>-0.086978</td>\n",
       "      <td>-0.598448</td>\n",
       "      <td>1.000000</td>\n",
       "    </tr>\n",
       "    <tr>\n",
       "      <th>SaleType_WD</th>\n",
       "      <td>-0.023705</td>\n",
       "      <td>-0.023705</td>\n",
       "      <td>0.002637</td>\n",
       "      <td>-0.013824</td>\n",
       "      <td>-0.139922</td>\n",
       "      <td>0.163718</td>\n",
       "      <td>-0.146182</td>\n",
       "      <td>-0.086735</td>\n",
       "      <td>-0.160033</td>\n",
       "      <td>0.140602</td>\n",
       "      <td>...</td>\n",
       "      <td>-0.049088</td>\n",
       "      <td>0.060457</td>\n",
       "      <td>0.049088</td>\n",
       "      <td>-0.078942</td>\n",
       "      <td>-0.557549</td>\n",
       "      <td>-0.802129</td>\n",
       "      <td>1.000000</td>\n",
       "      <td>-0.137885</td>\n",
       "      <td>0.647028</td>\n",
       "      <td>-0.802129</td>\n",
       "    </tr>\n",
       "    <tr>\n",
       "      <th>SaleCondition_Abnorml</th>\n",
       "      <td>-0.040817</td>\n",
       "      <td>-0.040817</td>\n",
       "      <td>-0.011624</td>\n",
       "      <td>-0.126699</td>\n",
       "      <td>-0.011821</td>\n",
       "      <td>-0.163718</td>\n",
       "      <td>-0.190697</td>\n",
       "      <td>-0.163731</td>\n",
       "      <td>-0.072046</td>\n",
       "      <td>0.036945</td>\n",
       "      <td>...</td>\n",
       "      <td>0.049088</td>\n",
       "      <td>-0.060457</td>\n",
       "      <td>-0.049088</td>\n",
       "      <td>0.078942</td>\n",
       "      <td>0.351547</td>\n",
       "      <td>-0.086978</td>\n",
       "      <td>-0.137885</td>\n",
       "      <td>1.000000</td>\n",
       "      <td>-0.746074</td>\n",
       "      <td>-0.086978</td>\n",
       "    </tr>\n",
       "    <tr>\n",
       "      <th>SaleCondition_Normal</th>\n",
       "      <td>0.072351</td>\n",
       "      <td>0.072351</td>\n",
       "      <td>-0.047057</td>\n",
       "      <td>0.069564</td>\n",
       "      <td>-0.173986</td>\n",
       "      <td>0.240414</td>\n",
       "      <td>-0.045985</td>\n",
       "      <td>-0.051004</td>\n",
       "      <td>-0.115318</td>\n",
       "      <td>0.030553</td>\n",
       "      <td>...</td>\n",
       "      <td>-0.065795</td>\n",
       "      <td>0.081034</td>\n",
       "      <td>0.065795</td>\n",
       "      <td>-0.105810</td>\n",
       "      <td>-0.250304</td>\n",
       "      <td>-0.598448</td>\n",
       "      <td>0.647028</td>\n",
       "      <td>-0.746074</td>\n",
       "      <td>1.000000</td>\n",
       "      <td>-0.598448</td>\n",
       "    </tr>\n",
       "    <tr>\n",
       "      <th>SaleCondition_Partial</th>\n",
       "      <td>-0.059135</td>\n",
       "      <td>-0.059135</td>\n",
       "      <td>0.084389</td>\n",
       "      <td>0.048367</td>\n",
       "      <td>0.274525</td>\n",
       "      <td>-0.162704</td>\n",
       "      <td>0.298245</td>\n",
       "      <td>0.273308</td>\n",
       "      <td>0.259215</td>\n",
       "      <td>-0.090163</td>\n",
       "      <td>...</td>\n",
       "      <td>0.039375</td>\n",
       "      <td>-0.048494</td>\n",
       "      <td>-0.039375</td>\n",
       "      <td>0.063322</td>\n",
       "      <td>-0.048494</td>\n",
       "      <td>1.000000</td>\n",
       "      <td>-0.802129</td>\n",
       "      <td>-0.086978</td>\n",
       "      <td>-0.598448</td>\n",
       "      <td>1.000000</td>\n",
       "    </tr>\n",
       "  </tbody>\n",
       "</table>\n",
       "<p>204 rows × 204 columns</p>\n",
       "</div>"
      ],
      "text/plain": [
       "                       Unnamed: 0        Id  MSSubClass   LotArea  \\\n",
       "Unnamed: 0               1.000000  1.000000    0.137568 -0.032999   \n",
       "Id                       1.000000  1.000000    0.137568 -0.032999   \n",
       "MSSubClass               0.137568  0.137568    1.000000 -0.330912   \n",
       "LotArea                 -0.032999 -0.032999   -0.330912  1.000000   \n",
       "OverallQual             -0.158653 -0.158653    0.122743  0.328167   \n",
       "...                           ...       ...         ...       ...   \n",
       "SaleType_New            -0.059135 -0.059135    0.084389  0.048367   \n",
       "SaleType_WD             -0.023705 -0.023705    0.002637 -0.013824   \n",
       "SaleCondition_Abnorml   -0.040817 -0.040817   -0.011624 -0.126699   \n",
       "SaleCondition_Normal     0.072351  0.072351   -0.047057  0.069564   \n",
       "SaleCondition_Partial   -0.059135 -0.059135    0.084389  0.048367   \n",
       "\n",
       "                       OverallQual  OverallCond  YearBuilt  YearRemodAdd  \\\n",
       "Unnamed: 0               -0.158653    -0.106961  -0.064661      0.010131   \n",
       "Id                       -0.158653    -0.106961  -0.064661      0.010131   \n",
       "MSSubClass                0.122743    -0.103423   0.013859      0.065691   \n",
       "LotArea                   0.328167    -0.171639   0.164696      0.120368   \n",
       "OverallQual               1.000000    -0.334532   0.571356      0.498736   \n",
       "...                            ...          ...        ...           ...   \n",
       "SaleType_New              0.274525    -0.162704   0.298245      0.273308   \n",
       "SaleType_WD              -0.139922     0.163718  -0.146182     -0.086735   \n",
       "SaleCondition_Abnorml    -0.011821    -0.163718  -0.190697     -0.163731   \n",
       "SaleCondition_Normal     -0.173986     0.240414  -0.045985     -0.051004   \n",
       "SaleCondition_Partial     0.274525    -0.162704   0.298245      0.273308   \n",
       "\n",
       "                       MasVnrArea  BsmtFinSF1  ...  GarageCond_TA  \\\n",
       "Unnamed: 0               0.043640   -0.116994  ...       0.062291   \n",
       "Id                       0.043640   -0.116994  ...       0.062291   \n",
       "MSSubClass               0.026036   -0.033935  ...      -0.099499   \n",
       "LotArea                  0.077315    0.347003  ...       0.041089   \n",
       "OverallQual              0.514169    0.070283  ...       0.171362   \n",
       "...                           ...         ...  ...            ...   \n",
       "SaleType_New             0.259215   -0.090163  ...       0.039375   \n",
       "SaleType_WD             -0.160033    0.140602  ...      -0.049088   \n",
       "SaleCondition_Abnorml   -0.072046    0.036945  ...       0.049088   \n",
       "SaleCondition_Normal    -0.115318    0.030553  ...      -0.065795   \n",
       "SaleCondition_Partial    0.259215   -0.090163  ...       0.039375   \n",
       "\n",
       "                       PavedDrive_N  PavedDrive_P  PavedDrive_Y  SaleType_COD  \\\n",
       "Unnamed: 0                -0.068085      0.111210     -0.018197      0.121858   \n",
       "Id                        -0.068085      0.111210     -0.018197      0.121858   \n",
       "MSSubClass                 0.058658     -0.111041      0.025474     -0.121727   \n",
       "LotArea                   -0.089887      0.102902      0.004228     -0.044116   \n",
       "OverallQual               -0.105295     -0.171362      0.192725     -0.147597   \n",
       "...                             ...           ...           ...           ...   \n",
       "SaleType_New              -0.048494     -0.039375      0.063322     -0.048494   \n",
       "SaleType_WD                0.060457      0.049088     -0.078942     -0.557549   \n",
       "SaleCondition_Abnorml     -0.060457     -0.049088      0.078942      0.351547   \n",
       "SaleCondition_Normal       0.081034      0.065795     -0.105810     -0.250304   \n",
       "SaleCondition_Partial     -0.048494     -0.039375      0.063322     -0.048494   \n",
       "\n",
       "                       SaleType_New  SaleType_WD  SaleCondition_Abnorml  \\\n",
       "Unnamed: 0                -0.059135    -0.023705              -0.040817   \n",
       "Id                        -0.059135    -0.023705              -0.040817   \n",
       "MSSubClass                 0.084389     0.002637              -0.011624   \n",
       "LotArea                    0.048367    -0.013824              -0.126699   \n",
       "OverallQual                0.274525    -0.139922              -0.011821   \n",
       "...                             ...          ...                    ...   \n",
       "SaleType_New               1.000000    -0.802129              -0.086978   \n",
       "SaleType_WD               -0.802129     1.000000              -0.137885   \n",
       "SaleCondition_Abnorml     -0.086978    -0.137885               1.000000   \n",
       "SaleCondition_Normal      -0.598448     0.647028              -0.746074   \n",
       "SaleCondition_Partial      1.000000    -0.802129              -0.086978   \n",
       "\n",
       "                       SaleCondition_Normal  SaleCondition_Partial  \n",
       "Unnamed: 0                         0.072351              -0.059135  \n",
       "Id                                 0.072351              -0.059135  \n",
       "MSSubClass                        -0.047057               0.084389  \n",
       "LotArea                            0.069564               0.048367  \n",
       "OverallQual                       -0.173986               0.274525  \n",
       "...                                     ...                    ...  \n",
       "SaleType_New                      -0.598448               1.000000  \n",
       "SaleType_WD                        0.647028              -0.802129  \n",
       "SaleCondition_Abnorml             -0.746074              -0.086978  \n",
       "SaleCondition_Normal               1.000000              -0.598448  \n",
       "SaleCondition_Partial             -0.598448               1.000000  \n",
       "\n",
       "[204 rows x 204 columns]"
      ]
     },
     "execution_count": 20,
     "metadata": {},
     "output_type": "execute_result"
    }
   ],
   "source": [
    "#Find correlation\n",
    "corr = data_clean.corr()\n",
    "corr"
   ]
  },
  {
   "cell_type": "markdown",
   "metadata": {},
   "source": [
    "#### Above, the correlation table shows each column's correlation to every other column"
   ]
  },
  {
   "cell_type": "code",
   "execution_count": 21,
   "metadata": {},
   "outputs": [
    {
     "name": "stdout",
     "output_type": "stream",
     "text": [
      "SalePrice                1.000000\n",
      "OverallQual              0.850038\n",
      "GrLivArea                0.749828\n",
      "GarageArea               0.720302\n",
      "GarageCars               0.693404\n",
      "BsmtQual_Ex              0.680761\n",
      "YearBuilt                0.656909\n",
      "TotalBsmtSF              0.626953\n",
      "FullBath                 0.621826\n",
      "GarageYrBlt              0.599547\n",
      "1stFlrSF                 0.585639\n",
      "TotRmsAbvGrd             0.582499\n",
      "MasVnrArea               0.556328\n",
      "YearRemodAdd             0.550558\n",
      "Neighborhood_NridgHt     0.530258\n",
      "Foundation_PConc         0.526124\n",
      "ExterQual_Gd             0.516535\n",
      "KitchenQual_Gd           0.493917\n",
      "LotArea                  0.490048\n",
      "HeatingQC_Ex             0.472751\n",
      "Fireplaces               0.452634\n",
      "WoodDeckSF               0.448247\n",
      "ExterQual_Ex             0.445484\n",
      "MSZoning_RL              0.400962\n",
      "Exterior2nd_VinylSd      0.398022\n",
      "Exterior1st_VinylSd      0.398022\n",
      "MasVnrType_Stone         0.397813\n",
      "GarageFinish_RFn         0.396529\n",
      "SaleType_New             0.387870\n",
      "SaleCondition_Partial    0.387870\n",
      "Exterior1st_WdShing      0.384227\n",
      "Neighborhood_StoneBr     0.377652\n",
      "GarageType_BuiltIn       0.375251\n",
      "2ndFlrSF                 0.364450\n",
      "CentralAir_Y             0.348955\n",
      "BsmtUnfSF                0.347120\n",
      "KitchenQual_Ex           0.343460\n",
      "MasVnrType_BrkFace       0.329987\n",
      "BsmtFinType1_GLQ         0.327249\n",
      "GarageFinish_Fin         0.304251\n",
      "HalfBath                 0.300230\n",
      "LandContour_Low          0.299322\n",
      "RoofMatl_WdShngl         0.299322\n",
      "MoSold                   0.296672\n",
      "BsmtExposure_Av          0.278988\n",
      "HouseStyle_2Story        0.271408\n",
      "Condition1_Norm          0.264117\n",
      "OpenPorchSF              0.260861\n",
      "GarageType_Attchd        0.249835\n",
      "GarageQual_TA            0.235912\n",
      "PavedDrive_Y             0.234692\n",
      "BsmtFinSF1               0.223068\n",
      "Neighborhood_Veenker     0.214906\n",
      "BedroomAbvGr             0.209996\n",
      "Exterior2nd_Wd Shng      0.208790\n",
      "BsmtExposure_Gd          0.199461\n",
      "Electrical_SBrkr         0.186028\n",
      "GarageCond_TA            0.181210\n",
      "Condition2_Norm          0.180239\n",
      "BsmtFinType2_Unf         0.167484\n",
      "Neighborhood_Somerst     0.160711\n",
      "LotShape_IR1             0.158509\n",
      "ExterCond_TA             0.156606\n",
      "Neighborhood_NoRidge     0.156395\n",
      "BsmtQual_Gd              0.137469\n",
      "LandContour_HLS          0.134822\n",
      "Functional_Typ           0.127605\n",
      "BsmtFullBath             0.124834\n",
      "RoofStyle_Hip            0.124065\n",
      "LandSlope_Gtl            0.123216\n",
      "LotConfig_CulDSac        0.115135\n",
      "Neighborhood_CollgCr     0.107922\n",
      "BldgType_TwnhsE          0.104505\n",
      "Street_Pave              0.101212\n",
      "BsmtCond_TA              0.098501\n",
      "LotShape_IR2             0.092871\n",
      "Exterior2nd_AsbShng      0.066284\n",
      "Neighborhood_ClearCr     0.066284\n",
      "BldgType_1Fam            0.047103\n",
      "MSZoning_FV              0.041009\n",
      "LotConfig_FR2            0.039563\n",
      "LotConfig_Inside         0.034217\n",
      "Exterior1st_Plywood      0.033611\n",
      "Neighborhood_NWAmes      0.029872\n",
      "Condition1_PosN          0.029872\n",
      "ScreenPorch              0.019570\n",
      "BsmtFinType1_Unf         0.013818\n",
      "Condition1_PosA          0.000742\n",
      "Heating_GasA             0.000084\n",
      "Heating_GasW            -0.000084\n",
      "Neighborhood_Gilbert    -0.005297\n",
      "Neighborhood_Timber     -0.013823\n",
      "BsmtExposure_Mn         -0.017274\n",
      "BsmtCond_Gd             -0.027372\n",
      "MSSubClass              -0.030556\n",
      "3SsnPorch               -0.031864\n",
      "BsmtFinType2_ALQ        -0.037126\n",
      "Neighborhood_Mitchel    -0.038713\n",
      "RoofStyle_Gable         -0.040016\n",
      "Condition1_RRAe         -0.043475\n",
      "Exterior2nd_Plywood     -0.048662\n",
      "BsmtFinType2_LwQ        -0.051691\n",
      "HouseStyle_SFoyer       -0.051691\n",
      "GarageCond_Gd           -0.051691\n",
      "Foundation_Wood         -0.053148\n",
      "LandContour_Lvl         -0.056385\n",
      "BsmtFinType1_BLQ        -0.057415\n",
      "Neighborhood_Crawfor    -0.057456\n",
      "Exterior2nd_Stucco      -0.057517\n",
      "Exterior1st_Stucco      -0.057517\n",
      "Condition1_RRAn         -0.057517\n",
      "Condition2_Feedr        -0.057517\n",
      "HouseStyle_1.5Fin       -0.059854\n",
      "BsmtFinType2_Rec        -0.065091\n",
      "Neighborhood_SawyerW    -0.065874\n",
      "HouseStyle_1Story       -0.074334\n",
      "BsmtFinType2_BLQ        -0.075397\n",
      "BsmtHalfBath            -0.080161\n",
      "GarageQual_Gd           -0.089560\n",
      "Condition2_Artery       -0.089560\n",
      "LowQualFinSF            -0.094658\n",
      "PavedDrive_P            -0.097585\n",
      "ExterCond_Gd            -0.097629\n",
      "BldgType_Twnhs          -0.098880\n",
      "Street_Grvl             -0.101212\n",
      "Condition1_RRNn         -0.101212\n",
      "BldgType_Duplex         -0.101212\n",
      "ExterQual_Fa            -0.101212\n",
      "GarageType_CarPort      -0.101212\n",
      "HeatingQC_Gd            -0.102512\n",
      "BsmtQual_Fa             -0.104999\n",
      "Electrical_FuseA        -0.110302\n",
      "BldgType_2fmCon         -0.110893\n",
      "MiscVal                 -0.112238\n",
      "Exterior2nd_MetalSd     -0.112540\n",
      "Exterior1st_MetalSd     -0.112540\n",
      "SaleCondition_Normal    -0.118727\n",
      "LotConfig_Corner        -0.121759\n",
      "LandSlope_Mod           -0.123216\n",
      "BsmtFinType2_GLQ        -0.126323\n",
      "HouseStyle_SLvl         -0.126670\n",
      "HouseStyle_1.5Unf       -0.126755\n",
      "Functional_Min1         -0.127605\n",
      "HouseStyle_2.5Unf       -0.128498\n",
      "BsmtCond_Fa             -0.128498\n",
      "Neighborhood_Sawyer     -0.128971\n",
      "Unnamed: 0              -0.135313\n",
      "Id                      -0.135313\n",
      "BsmtFinType1_LwQ        -0.135386\n",
      "MasVnrType_BrkCmn       -0.138647\n",
      "GarageType_Basment      -0.140537\n",
      "Exterior1st_CemntBd     -0.142996\n",
      "Exterior2nd_CmentBd     -0.142996\n",
      "Neighborhood_MeadowV    -0.142996\n",
      "Exterior1st_BrkFace     -0.144681\n",
      "Exterior2nd_HdBoard     -0.144737\n",
      "Electrical_FuseF        -0.148310\n",
      "Exterior2nd_BrkFace     -0.158944\n",
      "BsmtFinType1_ALQ        -0.159426\n",
      "SaleType_COD            -0.161532\n",
      "Condition2_RRNn         -0.161656\n",
      "BsmtFinSF2              -0.165565\n",
      "Exterior1st_HdBoard     -0.165953\n",
      "LandContour_Bnk         -0.168641\n",
      "BsmtFinType1_Rec        -0.169111\n",
      "KitchenAbvGr            -0.169410\n",
      "Neighborhood_NAmes      -0.171898\n",
      "SaleCondition_Abnorml   -0.174736\n",
      "Condition1_Artery       -0.179048\n",
      "Neighborhood_Edwards    -0.187682\n",
      "MSZoning_C (all)        -0.191669\n",
      "KitchenQual_Fa          -0.196226\n",
      "LotShape_Reg            -0.199897\n",
      "ExterCond_Fa            -0.203166\n",
      "GarageCond_Fa           -0.203166\n",
      "Condition1_Feedr        -0.211275\n",
      "HeatingQC_Fa            -0.214867\n",
      "GarageQual_Fa           -0.218587\n",
      "RoofStyle_Gambrel       -0.219113\n",
      "PavedDrive_N            -0.219438\n",
      "Neighborhood_BrkSide    -0.224799\n",
      "SaleType_WD             -0.225794\n",
      "Neighborhood_OldTown    -0.229823\n",
      "EnclosedPorch           -0.233064\n",
      "Neighborhood_IDOTRR     -0.242577\n",
      "Exterior2nd_Wd Sdng     -0.273615\n",
      "Exterior1st_Wd Sdng     -0.274036\n",
      "OverallCond             -0.284368\n",
      "YrSold                  -0.285701\n",
      "Foundation_CBlock       -0.294262\n",
      "RoofMatl_CompShg        -0.299322\n",
      "Foundation_BrkTil       -0.337274\n",
      "BsmtExposure_No         -0.340061\n",
      "CentralAir_N            -0.348955\n",
      "HeatingQC_TA            -0.383257\n",
      "MSZoning_RM             -0.391758\n",
      "GarageType_Detchd       -0.463982\n",
      "MasVnrType_None         -0.515283\n",
      "KitchenQual_TA          -0.552339\n",
      "BsmtQual_TA             -0.588904\n",
      "GarageFinish_Unf        -0.629571\n",
      "ExterQual_TA            -0.677601\n",
      "PoolArea                      NaN\n",
      "Utilities_AllPub              NaN\n"
     ]
    }
   ],
   "source": [
    "#Find correlation to sale price and sort by descending order\n",
    "corr_to_sp = corr['SalePrice'].sort_values(ascending=False)\n",
    "print(corr_to_sp.to_string())"
   ]
  },
  {
   "cell_type": "markdown",
   "metadata": {},
   "source": [
    "#### Above, every column's correlation to Sale Price is listed. \n",
    "We must decide which ones to include in our mutiple linear regression. Rather than only the variables we had plotted previously, we will use all variables with greater than 0.6 or less than -0.6 correlation coefficient. These variables have a stronger correlation to sales price, but are not so many that we risk overfitting our model (too many variables may create so much noise that our model is not as accurate anymore)."
   ]
  },
  {
   "cell_type": "markdown",
   "metadata": {},
   "source": [
    "\n",
    "[Back to top](#Index)\n",
    "\n",
    "## 3. Project Description\n",
    "\n",
    "This analysis improves upon the one provided by Dr. Williams in several ways. Firstly, Dr. Williams only used the top 5 correlated variables without considering negatively correlated variables, while this analysis used a more comprehensive approach by including 11 independent variables that were selected based on their correlation to sale price, including both positively and negatively correlated variables.\n",
    "\n",
    "Secondly, this analysis employed one-hot encoding to analyze categorical data, which was not done in Dr. Williams' analysis. This technique is important in accounting for categorical data and can provide valuable insights into the relationship between categorical variables and the outcome.\n",
    "\n",
    "Finally, Dr. Williams showed us how to log-transform the sales price data, but he did not apply a log transformation of the sales price data in his model. On the other hand, this analysis identified that the sales price data was log-normally distributed and transformed it accordingly. This transformation helped meet the assumptions of linear regression, leading to more accurate results.\n",
    "\n",
    "Overall, this analysis identified three categorical variables with high correlation coefficients that were not included in Dr. Williams' analysis, providing valuable additional insights into the relationship between independent variables and the predicted outcome.\n"
   ]
  },
  {
   "cell_type": "markdown",
   "metadata": {},
   "source": [
    "[Back to top](#Index)\n",
    "\n",
    "### 3.1 Linear Regression\n",
    "\n",
    "The multiple linear regression algorithm is a statistical technique used to model the relationship between a dependent variable and multiple independent variables. The origins of linear regression can be traced back to the early 19th century, but it was first formalized by Francis Galton in the late 19th century. Since then, it has become one of the most widely used statistical techniques in data science and machine learning.\n",
    "\n",
    "The multiple linear regression model assumes a linear relationship between the dependent variable (y) and the independent variables (x1, x2, x3, ..., xn). The general form of the multiple linear regression equation is:\n",
    "\n",
    "$y = ß_1x_1 + ß_2x_2 + ... + ß_nx_n$\n",
    "\n",
    "where $ß_0$, $ß_1$, $ß_2$, ..., $ß_n$ are the coefficients of the independent variables. The goal of the algorithm is to estimate the values of these coefficients based on the available data to make predictions about new data.\n",
    "\n",
    "The steps involved in implementing the multiple linear regression algorithm in Python for this project are as follows:\n",
    "\n",
    "Step 1: Data preparation\n",
    "The first step is to clean and prepare the data, removing any null values and encoding categorical variables using one-hot encoding. If the dependent variable (y) is not normally distributed, a log transformation may be necessary.\n",
    "\n",
    "Step 2: Splitting the data\n",
    "The next step is to split the data into training and test sets. The training set is used to train the model, while the test set is used to evaluate its performance. In this case, the training set and test set were provided separately.\n",
    "\n",
    "Step 3: Fitting the model\n",
    "The linear regression model is then fit to the training data using an optimization algorithm that minimizes the sum of squared errors between the predicted and actual values.\n",
    "\n",
    "Step 4: Making predictions\n",
    "Once the model has been fit, it can be used to make predictions on new data. The predicted values are calculated using the equation y = b0 + b1x1 + b2x2 + ... + bnxn. This was not part of the assignment, but could be applied given parameters from a house for sale.\n",
    "\n",
    "Step 5: Evaluating the model\n",
    "The final step is to evaluate the performance of the model using metrics such as R^2. This metric can be used to compare the performance of different models and to identify areas for improvement.\n",
    "\n",
    "In summary, multiple linear regression is a powerful algorithm for modeling the relationship between a dependent variable and multiple independent variables.\n",
    "\n"
   ]
  },
  {
   "cell_type": "markdown",
   "metadata": {},
   "source": [
    "[Back to top](#Index)\n",
    "\n",
    "### 3.2 Analysis \n",
    "\n",
    "Implement the algorithm on your data according to the examples in Video 7.9 and Video 7.10.\n",
    "\n",
    "Try to improve the results of your model analysis by including a different number of variables in your code for linear regression. Use what you learned about the correlation between variables when you explored your data to help you select these variables.\n",
    "\n",
    "Compare the results of at least three different groups of variables. In other words, run a linear regression algorithm on at least three different sets of independent variables. How many variables to include in each set is up to you.\n",
    "\n",
    "For each step, make sure you include your code. Ensure that your code is commented.\n",
    "\n",
    "\n",
    "\n"
   ]
  },
  {
   "cell_type": "code",
   "execution_count": 22,
   "metadata": {},
   "outputs": [
    {
     "data": {
      "text/plain": [
       "SalePrice           1.000000\n",
       "OverallQual         0.850038\n",
       "GrLivArea           0.749828\n",
       "GarageArea          0.720302\n",
       "GarageCars          0.693404\n",
       "BsmtQual_Ex         0.680761\n",
       "YearBuilt           0.656909\n",
       "TotalBsmtSF         0.626953\n",
       "FullBath            0.621826\n",
       "GarageYrBlt         0.599547\n",
       "GarageFinish_Unf   -0.629571\n",
       "ExterQual_TA       -0.677601\n",
       "Name: SalePrice, dtype: float64"
      ]
     },
     "execution_count": 22,
     "metadata": {},
     "output_type": "execute_result"
    }
   ],
   "source": [
    "#select only the elements with our desired correlation coefficients\n",
    "sig_corr = corr_to_sp.iloc[list(range(10)) + list(range(-4, -2))]\n",
    "sig_corr"
   ]
  },
  {
   "cell_type": "code",
   "execution_count": 23,
   "metadata": {},
   "outputs": [
    {
     "data": {
      "text/plain": [
       "Index(['SalePrice', 'OverallQual', 'GrLivArea', 'GarageArea', 'GarageCars',\n",
       "       'BsmtQual_Ex', 'YearBuilt', 'TotalBsmtSF', 'FullBath', 'GarageYrBlt',\n",
       "       'GarageFinish_Unf', 'ExterQual_TA'],\n",
       "      dtype='object')"
      ]
     },
     "execution_count": 23,
     "metadata": {},
     "output_type": "execute_result"
    }
   ],
   "source": [
    "#turn it into an array of the column names\n",
    "cols = sig_corr.index\n",
    "cols"
   ]
  },
  {
   "cell_type": "markdown",
   "metadata": {},
   "source": [
    "### Testing different groups of variables with $R^2$ metric"
   ]
  },
  {
   "cell_type": "code",
   "execution_count": 44,
   "metadata": {},
   "outputs": [
    {
     "name": "stdout",
     "output_type": "stream",
     "text": [
      "R^2 using 2 variables is: 0.6940884348499932\n",
      "R^2 using 3 variables is: 0.7267521415815059\n",
      "R^2 using 4 variables is: 0.7543226738733969\n",
      "R^2 using 5 variables is: 0.7556555056976664\n",
      "R^2 using 6 variables is: 0.763685361250882\n",
      "R^2 using 7 variables is: 0.823125918324505\n",
      "R^2 using 8 variables is: 0.8457927642216523\n",
      "R^2 using 9 variables is: 0.8461733259140334\n",
      "R^2 using 10 variables is: 0.8470119014549389\n",
      "R^2 using 11 variables is: 0.8506199939364716\n"
     ]
    }
   ],
   "source": [
    "#Test for R^2 values using different number of variables\n",
    "for i in range(2, len(sig_corr)):\n",
    "    cols = sig_corr.index[:i]           #use i number of columns (variables)\n",
    "    X = data_clean[cols]                #pull out desired columns from data_clean\n",
    "    Y = X['SalePrice']                  #set Y = sale price column\n",
    "    X = X.drop(['SalePrice'], axis = 1) #get rid of sale price column in X\n",
    "    Y = np.log(Y)                       #log transform sale price data\n",
    "    lr = linear_model.LinearRegression()\n",
    "    model = lr.fit(X,Y)\n",
    "    predictions = model.predict(X)\n",
    "    print(f'R^2 using {i} variables is: {model.score(X,Y)}')"
   ]
  },
  {
   "cell_type": "markdown",
   "metadata": {},
   "source": [
    "### Using more variables could marginally increase our $R^2$ value, but the correlation coefficient of any additional variables would be under 0.6, and adding too many variables to our model risks overfitting the model.\n",
    "\n",
    "### As such we will stick to 11 variables."
   ]
  },
  {
   "cell_type": "markdown",
   "metadata": {},
   "source": [
    "### We now have everything we need to build our model"
   ]
  },
  {
   "cell_type": "code",
   "execution_count": 36,
   "metadata": {},
   "outputs": [],
   "source": [
    "X = data_clean[cols] #pull out desired columns from data_clean\n",
    "Y = X['SalePrice']   #set Y = sale price column\n",
    "X = X.drop(['SalePrice'], axis = 1) #get rid of sale price column in X\n",
    "Y = np.log(Y) #log transform sale price data"
   ]
  },
  {
   "cell_type": "code",
   "execution_count": 37,
   "metadata": {},
   "outputs": [],
   "source": [
    "#Build linear regression model\n",
    "#the linear_model.LinearRegression() class is used to instantiate the linear regression model so it can be implemented\n",
    "lr = linear_model.LinearRegression()\n",
    "\n",
    "#the fit() function fits the model according to the given training data\n",
    "model = lr.fit(X,Y)"
   ]
  },
  {
   "cell_type": "markdown",
   "metadata": {},
   "source": [
    "[Back to top](#Index)\n",
    "\n",
    "### 3.3 Results\n",
    "\n",
    " What are your results? Which model performed better? Can you explain why? Include a detailed summary and a description of the metrics used to compute the accuracy of your predictions.\n",
    "\n",
    "For each step, make sure you include your code. Ensure that your code is commented.\n",
    "\n"
   ]
  },
  {
   "cell_type": "code",
   "execution_count": 38,
   "metadata": {},
   "outputs": [
    {
     "name": "stdout",
     "output_type": "stream",
     "text": [
      "R^2 is: 0.8506199939364716\n"
     ]
    }
   ],
   "source": [
    "#the predict() function predicts class labels for samples in X\n",
    "predictions = model.predict(X)\n",
    "print(f'R^2 is: {model.score(X,Y)}')"
   ]
  },
  {
   "cell_type": "markdown",
   "metadata": {},
   "source": [
    "### Our $R^2 = 0.85$ means that 85% of the variation in log(Sale Price) in this (training data) dataset can be explained by our model. This improves on Dr. Williams' model which had an $R^2 = 0.83$ \n"
   ]
  },
  {
   "cell_type": "code",
   "execution_count": 28,
   "metadata": {},
   "outputs": [
    {
     "data": {
      "text/plain": [
       "Text(0.5, 1.0, 'Histogram of Model Error on Training Data')"
      ]
     },
     "execution_count": 28,
     "metadata": {},
     "output_type": "execute_result"
    },
    {
     "data": {
      "image/png": "[encoded data removed]",
      "text/plain": [
       "<Figure size 640x480 with 1 Axes>"
      ]
     },
     "metadata": {},
     "output_type": "display_data"
    }
   ],
   "source": [
    "plt.hist(Y - predictions) #hist of Y minus Ypredictions, so Error\n",
    "plt.title('Histogram of Model Error on Training Data')\n",
    "#looks like a normal distribution, this is good"
   ]
  },
  {
   "cell_type": "markdown",
   "metadata": {},
   "source": [
    "### The histogram of our model's error appears normally distributed. "
   ]
  },
  {
   "cell_type": "code",
   "execution_count": 29,
   "metadata": {},
   "outputs": [
    {
     "data": {
      "text/plain": [
       "Text(0, 0.5, 'Log(Sale Price)')"
      ]
     },
     "execution_count": 29,
     "metadata": {},
     "output_type": "execute_result"
    },
    {
     "data": {
      "image/png": "[encoded data removed]",
      "text/plain": [
       "<Figure size 640x480 with 1 Axes>"
      ]
     },
     "metadata": {},
     "output_type": "display_data"
    }
   ],
   "source": [
    "plt.scatter(predictions, Y, color='r')\n",
    "plt.title('Model Error on Training Data')\n",
    "plt.xlabel(\"Predictions\")\n",
    "plt.ylabel(\"Log(Sale Price)\")\n",
    "#pretty good, we want a straight line"
   ]
  },
  {
   "cell_type": "markdown",
   "metadata": {},
   "source": [
    "### The scatterplot of our model's error shows a strong linear relationship between our model's predictions and the log(Sale Price). \n",
    "This means our model is a good fit to the data."
   ]
  },
  {
   "cell_type": "markdown",
   "metadata": {},
   "source": [
    "[Back to top](#Index)\n",
    "\n",
    "### 3.4 Verify Your Model Against Test Data\n",
    "\n",
    "Now that you have a prediction model, it's time to test your model against test data to confirm its accuracy on new data. The test data is located in the file `jtest.csv` \n",
    "\n",
    "What do you observe? Are these results in accordance with what you found earlier? How can you justify this?"
   ]
  },
  {
   "cell_type": "code",
   "execution_count": 30,
   "metadata": {},
   "outputs": [],
   "source": [
    "#Now we will test different versions of the model on data it was not trained on, to see which variables give us a better R^2\n",
    "test = pd.read_csv(\"C:/Users/mauri/Documents/Python Scripts/jtest.csv\")\n",
    "\n",
    "#Clean test data the same way we cleaned training data\n",
    "test_nulls = test.isnull().sum()\n",
    "\n",
    "drop_cols = []\n",
    "counter = 0\n",
    "#iterate over nulls\n",
    "for i in test_nulls:\n",
    "    if i > 10:\n",
    "        drop_cols.append(test_nulls.index[counter]) #append col names where there are >10 null values to drop_cols list\n",
    "    counter += 1\n",
    "#iterate over drop_cols list\n",
    "for col in drop_cols:\n",
    "    test.drop(col, axis = 1, inplace=True) #drop columns\n",
    "\n",
    "#Now we get rid of rows with NaN\n",
    "\n",
    "drop_rows = []\n",
    "counter = 0    \n",
    "for i in test_nulls:\n",
    "    if i > 0 and i <=10:\n",
    "        drop_rows.append(test_nulls.index[counter]) #append col names where there are between 1 and 10 null values to drop_rows list\n",
    "    counter += 1 \n",
    "\n",
    "#reassign test, only including rows without null values\n",
    "for row in drop_rows:\n",
    "    test = test[test[row].notna()]\n",
    "\n",
    "#check that columns and rows got dropped\n",
    "test.isnull().sum()\n",
    "\n",
    "#One Hot Encoding of categorical data\n",
    "categorical_test = test.select_dtypes(include=[object])\n",
    "#make a list of categorical column names\n",
    "categorical_cols_test = list(categorical_test.columns)\n",
    "# categorical_cols\n",
    "#iterate over list of categorical columns, feed into one-hot encoding function\n",
    "for col in categorical_cols_test:\n",
    "    categorical_test = one_hot_encode(categorical_test, col)\n",
    "    \n",
    "test = test.join(categorical_test)"
   ]
  },
  {
   "cell_type": "markdown",
   "metadata": {},
   "source": [
    "### Perform Linear Regression on test data"
   ]
  },
  {
   "cell_type": "code",
   "execution_count": 31,
   "metadata": {},
   "outputs": [
    {
     "name": "stdout",
     "output_type": "stream",
     "text": [
      "R^2 is: 0.8703248860635275\n"
     ]
    }
   ],
   "source": [
    "X = test[cols] #pull out desired columns from data_clean\n",
    "Y = X['SalePrice']   #set Y = sale price column\n",
    "X = X.drop(['SalePrice'], axis = 1) #get rid of sale price column in X\n",
    "Y = np.log(Y) #log(sales price)\n",
    "\n",
    "#Build linear regression model\n",
    "#the linear_model.LinearRegression() class is used to instantiate the linear regression model so it can be implemented\n",
    "lr = linear_model.LinearRegression()\n",
    "\n",
    "#the fit() function fits the model according to the given training data\n",
    "model = lr.fit(X,Y)\n",
    "\n",
    "#the predict() function predicts class labels for samples in X\n",
    "predictions = model.predict(X)\n",
    "print(f'R^2 is: {model.score(X,Y)}')"
   ]
  },
  {
   "cell_type": "markdown",
   "metadata": {},
   "source": [
    "### Our $R^2$ value of 0.87 means that approximately 87% of the variability in log(Sale Price) in the test dataset can be predicted by our model.\n",
    "\n",
    "### This is a 12% improvement over the analysis Dr. Williams performed, which had an $R^2 = 0.74$. \n",
    "### This improvement can be explained by our application of the log-transformation to sales price, and our inclusion of 6 additional variables in the model. "
   ]
  },
  {
   "cell_type": "code",
   "execution_count": 34,
   "metadata": {},
   "outputs": [
    {
     "data": {
      "text/plain": [
       "Text(0.5, 1.0, 'Histogram of Model Error on Test Data')"
      ]
     },
     "execution_count": 34,
     "metadata": {},
     "output_type": "execute_result"
    },
    {
     "data": {
      "image/png": "[encoded data removed]",
      "text/plain": [
       "<Figure size 640x480 with 1 Axes>"
      ]
     },
     "metadata": {},
     "output_type": "display_data"
    }
   ],
   "source": [
    "plt.hist(Y - predictions) #hist of Y minus Ypredictions, AKA Error\n",
    "plt.title('Histogram of Model Error on Test Data')\n",
    "#looks like a normall distribution, this is good"
   ]
  },
  {
   "cell_type": "markdown",
   "metadata": {},
   "source": [
    "### The histogram of our model error is normally distributed."
   ]
  },
  {
   "cell_type": "code",
   "execution_count": 35,
   "metadata": {},
   "outputs": [
    {
     "data": {
      "text/plain": [
       "Text(0, 0.5, 'Log(Sale Price)')"
      ]
     },
     "execution_count": 35,
     "metadata": {},
     "output_type": "execute_result"
    },
    {
     "data": {
      "image/png": "[encoded data removed]",
      "text/plain": [
       "<Figure size 640x480 with 1 Axes>"
      ]
     },
     "metadata": {},
     "output_type": "display_data"
    }
   ],
   "source": [
    "plt.scatter(predictions, Y, color='r')\n",
    "plt.title(\"Model Error on Test Data\")\n",
    "plt.xlabel(\"Predictions\")\n",
    "plt.ylabel(\"Log(Sale Price)\")"
   ]
  },
  {
   "cell_type": "markdown",
   "metadata": {},
   "source": [
    "### The scatterplot of our model's error shows a strong linear relationship between our model's predictions and the log(Sale Price). \n",
    "### The model is a good fit to the test data."
   ]
  },
  {
   "cell_type": "markdown",
   "metadata": {},
   "source": [
    "[Back to top](#Index)\n",
    "\n",
    "## Conclusion\n",
    "\n",
    "In conclusion, this project aimed to predict housing sales prices using a multiple linear regression model with 11 independent variables, including both positively and negatively correlated variables, and using one-hot encoding to account for categorical data. The results of the analysis showed that the model performed well, with an R^2 of 0.85 on training data and 0.87 on test data.\n",
    "\n",
    "Compared to the approach used by Dr. Williams, this project's approach proved to be more effective in terms of results. By using a more comprehensive set of independent variables, accounting for categorical data, and applying the log transformation of the sales price data, the multiple linear regression model was better equipped to explain the variation in housing sales prices.\n",
    "\n",
    "Through this project, I learned that data analysis techniques are constantly evolving, and there is no one-size-fits-all approach to solving a problem. Data cleaning and preparation, variable selection, and model evaluation are all crucial steps in the data analysis process. By creating my own prediction model, I gained a better understanding of the importance of these steps and the impact they can have on the results.\n",
    "\n",
    "Overall, this project demonstrated the power of multiple linear regression in predicting outcomes based on a set of independent variables. It also highlighted the importance of careful data preparation, variable selection, and model evaluation in obtaining accurate and useful results.\n",
    "\n",
    "It is important to note that since we log-transformed the sale price, when using this model to predict house sale prices, one must transform the prediction from log(sale price) to sale price by taking the $log^-1(Prediction)$.\n",
    "\n"
   ]
  },
  {
   "cell_type": "markdown",
   "metadata": {},
   "source": [
    "\n",
    "[Back to top](#Index\n",
    ")\n",
    "## References\n",
    "\n",
    "- pandas.DataFrame.notna. \"pandas documentation.\" pandas. Accessed March 29, 2023. https://pandas.pydata.org/docs/reference/api/pandas.DataFrame.notna.html.\n",
    "\n",
    "- Python Graph Gallery. \"Scatterplot with regression fit in Matplotlib.\" Accessed March 29, 2023. https://www.python-graph-gallery.com/scatterplot-with-regression-fit-in-matplotlib.\n",
    "\n",
    "- Queiroz, Felipe. “One-hot encoding a feature on a Pandas DataFrame - an example.” Queirozf.com. Accessed March 29, 2023. https://queirozf.com/entries/one-hot-encoding-a-feature-on-a-pandas-dataframe-an-example.\n",
    "\n",
    "- Stack Overflow. “Pretty print an entire Pandas Series / DataFrame.” Stack Overflow. Last modified October 1, 2013. Accessed March 29, 2023. https://stackoverflow.com/questions/19124601/pretty-print-an-entire-pandas-series-dataframe.\n",
    "\n",
    "- Stack Overflow. \"Selecting Pandas columns by dtype.\" Stack Overflow. Last modified January 22, 2014. Accessed March 29, 2023. https://stackoverflow.com/questions/21271581/selecting-pandas-columns-by-dtype.\n"
   ]
  }
 ],
 "metadata": {
  "kernelspec": {
   "display_name": "Python 3 (ipykernel)",
   "language": "python",
   "name": "python3"
  },
  "language_info": {
   "codemirror_mode": {
    "name": "ipython",
    "version": 3
   },
   "file_extension": ".py",
   "mimetype": "text/x-python",
   "name": "python",
   "nbconvert_exporter": "python",
   "pygments_lexer": "ipython3",
   "version": "3.9.13"
  }
 },
 "nbformat": 4,
 "nbformat_minor": 4
}
